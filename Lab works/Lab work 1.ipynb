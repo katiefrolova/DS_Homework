{
 "cells": [
  {
   "cell_type": "markdown",
   "metadata": {},
   "source": [
    "# 1. Markdown cells\n",
    "* Hi! Its Main Academy?\n",
    "* All HTML tabs are supported!\n",
    "* Моя сторінка на лінкедін [Лінкедін](www.linkedin.com)"
   ]
  },
  {
   "cell_type": "markdown",
   "metadata": {},
   "source": [
    "# This is Heading1"
   ]
  },
  {
   "cell_type": "markdown",
   "metadata": {},
   "source": [
    "## This is Heading2"
   ]
  },
  {
   "cell_type": "markdown",
   "metadata": {},
   "source": [
    "<span style=\"color:gray\">some gray colored text:</span>\n",
    "> This is where we can bring quotes and present them nicely"
   ]
  },
  {
   "cell_type": "markdown",
   "metadata": {},
   "source": [
    "And this is the paragraph about something very important. Even math:  \n",
    "\n",
    "$$y_{sub} = \\sqrt{x_{sub}}$$"
   ]
  },
  {
   "cell_type": "markdown",
   "metadata": {},
   "source": [
    "Как в условии: $$y_{sub} = \\sqrt(x_{sub})$$"
   ]
  },
  {
   "cell_type": "markdown",
   "metadata": {},
   "source": [
    "Or python code example:"
   ]
  },
  {
   "cell_type": "markdown",
   "metadata": {},
   "source": [
    "    import math\n",
    "    def foo():\n",
    "        return \"foo\""
   ]
  },
  {
   "cell_type": "markdown",
   "metadata": {},
   "source": [
    "Here is the sample mean:  \n",
    "$$\\bar{y} = \\frac{1}{n}\\sum_{i=1}^{n}y_i$$"
   ]
  },
  {
   "cell_type": "markdown",
   "metadata": {},
   "source": [
    "Here is the sample variance:  \n",
    "$$\\sigma^2 = \\frac{\\sum_{i=1}^{n}(y_i-\\bar{y})^2}{n-1}$$"
   ]
  },
  {
   "cell_type": "markdown",
   "metadata": {},
   "source": [
    "Here is the sample standard deviation:  \n",
    "$$\\sigma = \\sqrt{\\frac{\\sum_{i=1}^{n}(y_i-\\bar{y})^2}{n-1}}$$"
   ]
  }
 ],
 "metadata": {
  "kernelspec": {
   "display_name": "Python 3",
   "language": "python",
   "name": "python3"
  },
  "language_info": {
   "codemirror_mode": {
    "name": "ipython",
    "version": 3
   },
   "file_extension": ".py",
   "mimetype": "text/x-python",
   "name": "python",
   "nbconvert_exporter": "python",
   "pygments_lexer": "ipython3",
   "version": "3.8.3"
  }
 },
 "nbformat": 4,
 "nbformat_minor": 4
}
