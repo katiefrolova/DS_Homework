{
 "cells": [
  {
   "cell_type": "code",
   "execution_count": 24,
   "metadata": {
    "scrolled": true
   },
   "outputs": [
    {
     "name": "stdout",
     "output_type": "stream",
     "text": [
      "Информация про данную БД:\n",
      "[('table', 'Customers', 'Customers', 2, 'CREATE TABLE Customers\\n(\\n  cust_id      char(10)  NOT NULL ,\\n  cust_name    char(50)  NOT NULL ,\\n  cust_address char(50)  NULL ,\\n  cust_city    char(50)  NULL ,\\n  cust_state   char(5)   NULL ,\\n  cust_zip     char(10)  NULL ,\\n  cust_country char(50)  NULL ,\\n  cust_contact char(50)  NULL ,\\n  cust_email   char(255) NULL ,\\n  PRIMARY KEY (cust_id)\\n)'), ('index', 'sqlite_autoindex_Customers_1', 'Customers', 3, None), ('table', 'OrderItems', 'OrderItems', 4, 'CREATE TABLE OrderItems\\n(\\n  order_num  int          NOT NULL                      ,\\n  order_item int          NOT NULL                      ,\\n  prod_id    char(10)     NOT NULL                      ,\\n  quantity   int          NOT NULL                      ,\\n  item_price decimal(8,2) NOT NULL                      ,\\n  PRIMARY KEY (order_num, order_item)                   ,\\n  FOREIGN KEY (order_num) REFERENCES Orders (order_num) ,\\n  FOREIGN KEY (prod_id) REFERENCES Products (prod_id)\\n)'), ('index', 'sqlite_autoindex_OrderItems_1', 'OrderItems', 5, None), ('table', 'Orders', 'Orders', 7, 'CREATE TABLE Orders\\n(\\n  order_num  int      NOT NULL ,\\n  order_date datetime NOT NULL ,\\n  cust_id    char(10) NOT NULL ,\\n  PRIMARY KEY (order_num)      ,\\n  FOREIGN KEY (cust_id) REFERENCES Customers (cust_id)\\n)'), ('index', 'sqlite_autoindex_Orders_1', 'Orders', 9, None), ('table', 'Products', 'Products', 10, 'CREATE TABLE Products\\n(\\n  prod_id    char(10)      NOT NULL ,\\n  vend_id    char(10)      NOT NULL ,\\n  prod_name  char(255)     NOT NULL ,\\n  prod_price decimal(8,2)  NOT NULL ,\\n  prod_desc  text          NULL     ,\\n  PRIMARY KEY (prod_id)             ,\\n  FOREIGN KEY (vend_id) REFERENCES Vendors (vend_id)\\n)'), ('index', 'sqlite_autoindex_Products_1', 'Products', 11, None), ('table', 'Vendors', 'Vendors', 12, 'CREATE TABLE Vendors\\n(\\n  vend_id      char(10) NOT NULL ,\\n  vend_name    char(50) NOT NULL ,\\n  vend_address char(50) NULL     ,\\n  vend_city    char(50) NULL     ,\\n  vend_state   char(5)  NULL     ,\\n  vend_zip     char(10) NULL     ,\\n  vend_country char(50) NULL     ,\\n  PRIMARY KEY (vend_id)\\n)'), ('index', 'sqlite_autoindex_Vendors_1', 'Vendors', 13, None)]\n"
     ]
    }
   ],
   "source": [
    "import sqlite3\n",
    "\n",
    "def result(sql_text):\n",
    "    conn = sqlite3.connect('tysql.sqlite')\n",
    "    curs = conn.cursor()\n",
    "    ex = curs.execute(sql_text)\n",
    "    return ex\n",
    "\n",
    "print('Информация про данную БД:')  \n",
    "\n",
    "sql_text = \"SELECT * FROM sqlite_master\"\n",
    "row = result(sql_text).fetchall()\n",
    "print(row)\n",
    "conn.close()"
   ]
  },
  {
   "cell_type": "code",
   "execution_count": 58,
   "metadata": {},
   "outputs": [
    {
     "name": "stdout",
     "output_type": "stream",
     "text": [
      "Перечень всех таблиц:\n",
      "Customers\n",
      "OrderItems\n",
      "Orders\n",
      "Products\n",
      "Vendors\n"
     ]
    }
   ],
   "source": [
    "sql_text = \"SELECT name FROM sqlite_master WHERE type = 'table'\"\n",
    "print('Перечень всех таблиц:')\n",
    "tables = result(sql_text).fetchall()\n",
    "for el in tables:\n",
    "    print(el[0])\n",
    "conn.close()"
   ]
  },
  {
   "cell_type": "code",
   "execution_count": 59,
   "metadata": {},
   "outputs": [],
   "source": [
    "tables = [t[0] for t in tables]"
   ]
  },
  {
   "cell_type": "code",
   "execution_count": 62,
   "metadata": {},
   "outputs": [
    {
     "name": "stdout",
     "output_type": "stream",
     "text": [
      "Схема БД:\n",
      "Customers\n",
      "(0, 'cust_id', 'char(10)', 1, None, 1)\n",
      "(1, 'cust_name', 'char(50)', 1, None, 0)\n",
      "(2, 'cust_address', 'char(50)', 0, None, 0)\n",
      "(3, 'cust_city', 'char(50)', 0, None, 0)\n",
      "(4, 'cust_state', 'char(5)', 0, None, 0)\n",
      "(5, 'cust_zip', 'char(10)', 0, None, 0)\n",
      "(6, 'cust_country', 'char(50)', 0, None, 0)\n",
      "(7, 'cust_contact', 'char(50)', 0, None, 0)\n",
      "(8, 'cust_email', 'char(255)', 0, None, 0)\n",
      "OrderItems\n",
      "(0, 'order_num', 'int', 1, None, 1)\n",
      "(1, 'order_item', 'int', 1, None, 2)\n",
      "(2, 'prod_id', 'char(10)', 1, None, 0)\n",
      "(3, 'quantity', 'int', 1, None, 0)\n",
      "(4, 'item_price', 'decimal(8,2)', 1, None, 0)\n",
      "Orders\n",
      "(0, 'order_num', 'int', 1, None, 1)\n",
      "(1, 'order_date', 'datetime', 1, None, 0)\n",
      "(2, 'cust_id', 'char(10)', 1, None, 0)\n",
      "Products\n",
      "(0, 'prod_id', 'char(10)', 1, None, 1)\n",
      "(1, 'vend_id', 'char(10)', 1, None, 0)\n",
      "(2, 'prod_name', 'char(255)', 1, None, 0)\n",
      "(3, 'prod_price', 'decimal(8,2)', 1, None, 0)\n",
      "(4, 'prod_desc', 'text', 0, None, 0)\n",
      "Vendors\n",
      "(0, 'vend_id', 'char(10)', 1, None, 1)\n",
      "(1, 'vend_name', 'char(50)', 1, None, 0)\n",
      "(2, 'vend_address', 'char(50)', 0, None, 0)\n",
      "(3, 'vend_city', 'char(50)', 0, None, 0)\n",
      "(4, 'vend_state', 'char(5)', 0, None, 0)\n",
      "(5, 'vend_zip', 'char(10)', 0, None, 0)\n",
      "(6, 'vend_country', 'char(50)', 0, None, 0)\n"
     ]
    }
   ],
   "source": [
    "print('Схема БД:')\n",
    "for t in tables:\n",
    "    print (t)\n",
    "    sql_text = \"PRAGMA table_info(%s)\" %t\n",
    "    for row in result(sql_text).fetchall():\n",
    "        print(row)\n",
    "conn.close()"
   ]
  },
  {
   "cell_type": "code",
   "execution_count": 75,
   "metadata": {},
   "outputs": [
    {
     "name": "stdout",
     "output_type": "stream",
     "text": [
      "Информация про ключи:\n",
      "Customers\n",
      "PRIMARY KEY (cust_id)\n",
      "\n",
      "OrderItems\n",
      "PRIMARY KEY (order_num, order_item)                   ,\n",
      "  FOREIGN KEY (order_num) REFERENCES Orders (order_num) ,\n",
      "  FOREIGN KEY (prod_id) REFERENCES Products (prod_id)\n",
      "\n",
      "Orders\n",
      "PRIMARY KEY (order_num)      ,\n",
      "  FOREIGN KEY (cust_id) REFERENCES Customers (cust_id)\n",
      "\n",
      "Products\n",
      "PRIMARY KEY (prod_id)             ,\n",
      "  FOREIGN KEY (vend_id) REFERENCES Vendors (vend_id)\n",
      "\n",
      "Vendors\n",
      "PRIMARY KEY (vend_id)\n",
      "\n"
     ]
    }
   ],
   "source": [
    "print('Информация про ключи:')\n",
    "sql_text = \"SELECT sql FROM sqlite_master WHERE tbl_name = ? AND type = 'table'\"\n",
    "for t in tables:\n",
    "    conn = sqlite3.connect('tysql.sqlite')\n",
    "    curs = conn.cursor()\n",
    "    data = curs.execute(sql_text, (t,)).fetchall()[0][0]\n",
    "    keys = data[data.find('PRIMARY KEY'):].rstrip(')')\n",
    "    print(t)\n",
    "    print(keys)\n"
   ]
  },
  {
   "cell_type": "code",
   "execution_count": 78,
   "metadata": {},
   "outputs": [
    {
     "name": "stdout",
     "output_type": "stream",
     "text": [
      "Столбцы таблицы OrderItems:\n",
      "['order_num', 'order_item', 'prod_id', 'quantity', 'item_price']\n"
     ]
    }
   ],
   "source": [
    "conn = sqlite3.connect('tysql.sqlite') # Еще способ вытащить названия столбцов\n",
    "conn.row_factory = sqlite3.Row\n",
    "curs = conn.cursor()\n",
    "print('Столбцы таблицы OrderItems:')\n",
    "curs.execute('select * from OrderItems')\n",
    "row = curs.fetchone()\n",
    "print(row.keys())\n",
    "conn.close()"
   ]
  },
  {
   "cell_type": "code",
   "execution_count": 79,
   "metadata": {},
   "outputs": [],
   "source": [
    "def result2(sql_text):\n",
    "    conn = sqlite3.connect('tysql.sqlite')\n",
    "    curs = conn.cursor()\n",
    "    curs.execute(sql_text)\n",
    "    for row in curs.fetchall():\n",
    "        print(row)"
   ]
  },
  {
   "cell_type": "code",
   "execution_count": 83,
   "metadata": {},
   "outputs": [
    {
     "name": "stdout",
     "output_type": "stream",
     "text": [
      "Список всех cust_id из таблицы Customers:\n",
      "('1000000001',)\n",
      "('1000000002',)\n",
      "('1000000003',)\n",
      "('1000000004',)\n",
      "('1000000005',)\n"
     ]
    }
   ],
   "source": [
    "# 1.1\n",
    "sql_text = 'SELECT cust_id FROM Customers'\n",
    "print('Список всех cust_id из таблицы Customers:')\n",
    "result2(sql_text)"
   ]
  },
  {
   "cell_type": "code",
   "execution_count": 84,
   "metadata": {},
   "outputs": [
    {
     "name": "stdout",
     "output_type": "stream",
     "text": [
      "Вся таблица Customers:\n",
      "('1000000001', 'Village Toys', '200 Maple Lane', 'Detroit', 'MI', '44444', 'USA', 'John Smith', 'sales@villagetoys.com')\n",
      "('1000000002', 'Kids Place', '333 South Lake Drive', 'Columbus', 'OH', '43333', 'USA', 'Michelle Green', None)\n",
      "('1000000003', 'Fun4All', '1 Sunny Place', 'Muncie', 'IN', '42222', 'USA', 'Jim Jones', 'jjones@fun4all.com')\n",
      "('1000000004', 'Fun4All', '829 Riverside Drive', 'Phoenix', 'AZ', '88888', 'USA', 'Denise L. Stephens', 'dstephens@fun4all.com')\n",
      "('1000000005', 'The Toy Store', '4545 53rd Street', 'Chicago', 'IL', '54545', 'USA', 'Kim Howard', None)\n"
     ]
    }
   ],
   "source": [
    "# 1.2\n",
    "sql_text = 'SELECT * FROM Customers'\n",
    "print('Вся таблица Customers:')\n",
    "result2(sql_text)"
   ]
  },
  {
   "cell_type": "code",
   "execution_count": 88,
   "metadata": {},
   "outputs": [
    {
     "name": "stdout",
     "output_type": "stream",
     "text": [
      "Список клиентов, отсортированных от Z до А:\n",
      "('Village Toys',)\n",
      "('The Toy Store',)\n",
      "('Kids Place',)\n",
      "('Fun4All',)\n",
      "('Fun4All',)\n"
     ]
    }
   ],
   "source": [
    "# 1.3\n",
    "sql_text = \"\"\"SELECT cust_name\n",
    "              FROM Customers\n",
    "              ORDER BY cust_name DESC\"\"\"\n",
    "print('Список клиентов, отсортированных от Z до А:')\n",
    "result2(sql_text)"
   ]
  },
  {
   "cell_type": "code",
   "execution_count": 100,
   "metadata": {},
   "outputs": [
    {
     "name": "stdout",
     "output_type": "stream",
     "text": [
      "Таблица клиентов и заказов, отсортированных по клиенту и дате:\n",
      "('1000000001', 20009)\n",
      "('1000000001', 20005)\n",
      "('1000000003', 20006)\n",
      "('1000000004', 20007)\n",
      "('1000000005', 20008)\n"
     ]
    }
   ],
   "source": [
    "# 1.4\n",
    "sql_text = \"\"\" SELECT cust_id, order_num\n",
    "               FROM Orders\n",
    "               ORDER BY cust_id, order_date\n",
    "\"\"\"\n",
    "print('Таблица клиентов и заказов, отсортированных по клиенту и дате:')\n",
    "result2(sql_text)"
   ]
  },
  {
   "cell_type": "code",
   "execution_count": 102,
   "metadata": {},
   "outputs": [
    {
     "name": "stdout",
     "output_type": "stream",
     "text": [
      "Таблица с количеством и стоимостью товаров, отсорт. по убыванию:\n",
      "(250, 2.49)\n",
      "(250, 2.49)\n",
      "(250, 2.49)\n",
      "(100, 10.99)\n",
      "(100, 5.49)\n",
      "(100, 2.99)\n",
      "(100, 2.99)\n",
      "(100, 2.99)\n",
      "(50, 11.49)\n",
      "(50, 4.49)\n",
      "(20, 5.99)\n",
      "(10, 11.99)\n",
      "(10, 8.99)\n",
      "(10, 3.49)\n",
      "(10, 3.49)\n",
      "(10, 3.49)\n",
      "(5, 11.99)\n",
      "(5, 4.99)\n"
     ]
    }
   ],
   "source": [
    "# 1.5\n",
    "sql_text = \"\"\" SELECT quantity, item_price\n",
    "               FROM OrderItems\n",
    "               ORDER BY quantity DESC, item_price DESC\n",
    "\"\"\"\n",
    "print('Таблица с количеством и стоимостью товаров, отсорт. по убыванию:')\n",
    "result2(sql_text)"
   ]
  },
  {
   "cell_type": "code",
   "execution_count": 104,
   "metadata": {},
   "outputs": [
    {
     "name": "stdout",
     "output_type": "stream",
     "text": [
      "Товары, цена которых составляет 9.49:\n",
      "('RYL01', 'King doll', 9.49)\n",
      "('RYL02', 'Queen doll', 9.49)\n"
     ]
    }
   ],
   "source": [
    "# 1.6\n",
    "sql_text = \"\"\" SELECT prod_id, prod_name, prod_price\n",
    "               FROM Products\n",
    "               WHERE prod_price = 9.49\n",
    "\"\"\"\n",
    "print('Товары, цена которых составляет 9.49:')\n",
    "result2(sql_text)"
   ]
  },
  {
   "cell_type": "code",
   "execution_count": 109,
   "metadata": {},
   "outputs": [
    {
     "name": "stdout",
     "output_type": "stream",
     "text": [
      "Название товаров и цены из диапазона от 3 до 6, отсортировано по цене по возрастанию:\n",
      "('Fish bean bag toy', 3.49)\n",
      "('Bird bean bag toy', 3.49)\n",
      "('Rabbit bean bag toy', 3.49)\n",
      "('Raggedy Ann', 4.99)\n",
      "('8 inch teddy bear', 5.99)\n"
     ]
    }
   ],
   "source": [
    "# 1.7\n",
    "sql_text = \"\"\" SELECT prod_name, prod_price\n",
    "               FROM Products\n",
    "               WHERE prod_price BETWEEN 3 AND 6\n",
    "               ORDER BY prod_price\n",
    "\"\"\"\n",
    "print('Название товаров и цены из диапазона от 3 до 6, отсортировано по цене по возрастанию:')\n",
    "result2(sql_text)"
   ]
  },
  {
   "cell_type": "code",
   "execution_count": 112,
   "metadata": {},
   "outputs": [
    {
     "name": "stdout",
     "output_type": "stream",
     "text": [
      "Количество товара, которое было продано по группам:\n",
      "('RGAN01', 10)\n",
      "('BR02', 50)\n",
      "('BR01', 20)\n",
      "('BR03', 100)\n",
      "('BR01', 500)\n",
      "('BNBG01', 750)\n"
     ]
    }
   ],
   "source": [
    "# 2.1\n",
    "sql_text = \"\"\" SELECT prod_id, SUM(quantity)\n",
    "               FROM OrderItems\n",
    "               GROUP BY quantity\n",
    "\"\"\"\n",
    "print('Количество товара, которое было продано по группам:')\n",
    "result2(sql_text)"
   ]
  },
  {
   "cell_type": "code",
   "execution_count": 113,
   "metadata": {},
   "outputs": [
    {
     "name": "stdout",
     "output_type": "stream",
     "text": [
      "Количество товара, которое было продано всего:\n",
      "(1430,)\n"
     ]
    }
   ],
   "source": [
    "# 2.1\n",
    "sql_text = \"\"\" SELECT SUM(quantity)\n",
    "               FROM OrderItems\n",
    "\"\"\"\n",
    "print('Количество товара, которое было продано всего:')\n",
    "result2(sql_text)"
   ]
  },
  {
   "cell_type": "code",
   "execution_count": 118,
   "metadata": {},
   "outputs": [
    {
     "name": "stdout",
     "output_type": "stream",
     "text": [
      "Количество наименований товара, цена которого больше 4:\n",
      "(6,)\n"
     ]
    }
   ],
   "source": [
    "# 2.2\n",
    "sql_text = \"\"\" SELECT COUNT()\n",
    "               FROM Products\n",
    "               WHERE prod_price > 4\n",
    "\"\"\"\n",
    "print('Количество наименований товара, цена которого больше 4:')\n",
    "result2(sql_text)"
   ]
  },
  {
   "cell_type": "code",
   "execution_count": 123,
   "metadata": {},
   "outputs": [
    {
     "name": "stdout",
     "output_type": "stream",
     "text": [
      "ТОП 3 самых дорогих товара:\n",
      "('18 inch teddy bear', 11.99)\n",
      "('King doll', 9.49)\n",
      "('Queen doll', 9.49)\n"
     ]
    }
   ],
   "source": [
    "# 2.3 \n",
    "sql_text = \"\"\" SELECT prod_name, prod_price\n",
    "               FROM Products\n",
    "               WHERE prod_price IN (SELECT prod_price\n",
    "                                    FROM Products\n",
    "                                    ORDER BY prod_price DESC\n",
    "                                    LIMIT 3)\n",
    "\"\"\"\n",
    "print('ТОП 3 самых дорогих товара:')\n",
    "result2(sql_text)"
   ]
  },
  {
   "cell_type": "code",
   "execution_count": 128,
   "metadata": {},
   "outputs": [
    {
     "name": "stdout",
     "output_type": "stream",
     "text": [
      "Количество заказов для каждого клиента:\n",
      "('1000000001', 2)\n",
      "('1000000003', 1)\n",
      "('1000000004', 1)\n",
      "('1000000005', 1)\n"
     ]
    }
   ],
   "source": [
    "# 2.4\n",
    "sql_text = \"\"\" SELECT cust_id, COUNT()\n",
    "               FROM (SELECT cust_id\n",
    "                     FROM Orders)\n",
    "               GROUP BY cust_id\n",
    "\"\"\"\n",
    "print('Количество заказов для каждого клиента с исп. подзапроса:')\n",
    "result2(sql_text)"
   ]
  },
  {
   "cell_type": "code",
   "execution_count": 130,
   "metadata": {},
   "outputs": [
    {
     "name": "stdout",
     "output_type": "stream",
     "text": [
      "Список клиентов и их заказов с исп. JOIN:\n",
      "('Village Toys', 20005)\n",
      "('Fun4All', 20006)\n",
      "('Fun4All', 20007)\n",
      "('The Toy Store', 20008)\n",
      "('Village Toys', 20009)\n"
     ]
    }
   ],
   "source": [
    "# 2.5\n",
    "sql_text = \"\"\" SELECT cust_name, order_num\n",
    "               FROM Orders\n",
    "               JOIN Customers ON Orders.cust_id = Customers.cust_id\n",
    "\n",
    "\"\"\"\n",
    "print('Список клиентов и их заказов с исп. JOIN:')\n",
    "result2(sql_text)"
   ]
  },
  {
   "cell_type": "code",
   "execution_count": 131,
   "metadata": {},
   "outputs": [
    {
     "name": "stdout",
     "output_type": "stream",
     "text": [
      "Два объединенных списка товаров: с ценой <5 и >=5\n",
      "('12 inch teddy bear', 8.99)\n",
      "('18 inch teddy bear', 11.99)\n",
      "('8 inch teddy bear', 5.99)\n",
      "('Bird bean bag toy', 3.49)\n",
      "('Fish bean bag toy', 3.49)\n",
      "('King doll', 9.49)\n",
      "('Queen doll', 9.49)\n",
      "('Rabbit bean bag toy', 3.49)\n",
      "('Raggedy Ann', 4.99)\n"
     ]
    }
   ],
   "source": [
    "# 2.6\n",
    "sql_text = \"\"\" SELECT prod_name, prod_price\n",
    "               FROM Products\n",
    "               WHERE prod_price < 5\n",
    "               UNION\n",
    "               SELECT prod_name, prod_price\n",
    "               FROM Products\n",
    "               WHERE prod_price >= 5\n",
    "\n",
    "\"\"\"\n",
    "print('Два объединенных списка товаров: с ценой < 5 и >= 5')\n",
    "result2(sql_text)"
   ]
  }
 ],
 "metadata": {
  "kernelspec": {
   "display_name": "Python 3",
   "language": "python",
   "name": "python3"
  },
  "language_info": {
   "codemirror_mode": {
    "name": "ipython",
    "version": 3
   },
   "file_extension": ".py",
   "mimetype": "text/x-python",
   "name": "python",
   "nbconvert_exporter": "python",
   "pygments_lexer": "ipython3",
   "version": "3.8.3"
  }
 },
 "nbformat": 4,
 "nbformat_minor": 4
}
